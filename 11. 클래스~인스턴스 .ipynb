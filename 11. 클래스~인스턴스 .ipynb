{
 "cells": [
  {
   "cell_type": "markdown",
   "metadata": {},
   "source": [
    "### 학습목표\n",
    " 1. 클래스와 오브젝트에 대한 이해"
   ]
  },
  {
   "cell_type": "markdown",
   "metadata": {},
   "source": [
    "#### **class란?**\n",
    " + 실세계의 것을 모델링하여 속성(attribute)와 동작(method)를 갖는 데이터 타입\n",
    " + python에서의 string, int, list, dict.. 모두가 다 클래스로 존재\n",
    " + 예를들어 학생이라는 클래스를 만든다면, 학생을 나타내는 속성과 학생이 행하는 행동을 함께 정의 할 수 있음\n",
    " + 따라서, 다루고자 하는 데이터(변수) 와 데이터를 다루는 연산(함수)를 하나로 캡슐화(encapsulation)하여 클래스로 표현\n",
    " + 모델링에서 중요시 하는 속성에 따라 클래스의 속성과 행동이 각각 달라짐"
   ]
  },
  {
   "cell_type": "code",
   "execution_count": 1,
   "metadata": {},
   "outputs": [
    {
     "name": "stdout",
     "output_type": "stream",
     "text": [
      "[1, 2, 3, 4, 5, 5]\n"
     ]
    }
   ],
   "source": [
    "a = [1,2,3,4,5] # 클래스 세로운 타입을 정의 (객체를 만드는 것 )\n",
    "a.append(5)\n",
    "print(a)"
   ]
  },
  {
   "cell_type": "markdown",
   "metadata": {},
   "source": [
    "#### **object 란?**\n",
    " - 클래스로 생성되어 구체화된 객체(인스턴스)\n",
    " - 파이썬의 모든 것(int, str, list..etc)은 객체(인스턴스)\n",
    " - 실제로 class가 인스턴스화 되어 메모리에 상주하는 상태를 의미\n",
    " - class가 빵틀이라면, object는 실제로 빵틀로 찍어낸 빵이라고 비유 가능\n"
   ]
  },
  {
   "cell_type": "markdown",
   "metadata": {},
   "source": [
    "#### **class 선언하기**\n",
    "  - 객체를 생성하기 위해선 객체의 모체가 되는 class를 미리 선언해야 함 "
   ]
  },
  {
   "cell_type": "code",
   "execution_count": 3,
   "metadata": {},
   "outputs": [],
   "source": [
    "class Person:\n",
    "    pass       # 정의 없는 빈 공간 "
   ]
  },
  {
   "cell_type": "code",
   "execution_count": 6,
   "metadata": {},
   "outputs": [
    {
     "name": "stdout",
     "output_type": "stream",
     "text": [
      "<class '__main__.Person'> <class '__main__.Person'>\n",
      "<class 'list'> <class 'list'>\n"
     ]
    }
   ],
   "source": [
    "bob = Person()\n",
    "cathy = Person()\n",
    "\n",
    "a = list()\n",
    "b = list()\n",
    "\n",
    "print(type(bob),type(cathy))\n",
    "print(type(a),type(b))"
   ]
  },
  {
   "cell_type": "markdown",
   "metadata": {},
   "source": [
    "####  __init__(self)\n",
    " + 생성자, 클래스 인스턴스가 생성될 때 호출됨\n",
    " + self인자는 항상 첫번째에 오며 자기 자신을 가리킴\n",
    " + 이름이 꼭 self일 필요는 없지만, 관례적으로 self로 사용\n",
    " \n",
    " + 생성자에서는 해당 클래스가 다루는 데이터를 정의\n",
    "   - 이 데이터를 멤버 변수(member variable) 또는 속성(attribute)라고 함"
   ]
  },
  {
   "cell_type": "code",
   "execution_count": 21,
   "metadata": {},
   "outputs": [
    {
     "name": "stdout",
     "output_type": "stream",
     "text": [
      "<__main__.Person object at 0x7fc5bc54dac0> is good\n",
      "<__main__.Person object at 0x7fc5bc54dcd0> is good\n",
      "aaron 20\n"
     ]
    }
   ],
   "source": [
    "class Person:\n",
    "    def __init__(self):       #self 파이썬 메소드 첫번째 관례적인 약속 / 항상 모든 메소드의 첫번째 / 객체 그자신을 표현 \n",
    "        print(self,'is good')\n",
    "        self.name = 'tamy'\n",
    "        self.age = 10\n",
    "\n",
    "p1 = Person()\n",
    "p2 = Person()\n",
    "\n",
    "p1.name = 'aaron'\n",
    "p1.age = 20\n",
    "print(p1.name, p1.age)"
   ]
  },
  {
   "cell_type": "code",
   "execution_count": 16,
   "metadata": {},
   "outputs": [
    {
     "name": "stdout",
     "output_type": "stream",
     "text": [
      "Bob 30\n",
      "kana 25\n"
     ]
    }
   ],
   "source": [
    "class Person:\n",
    "    def __init__(self, name, age):   # 기본매체 넣을 수 있다. ex) age = 10 \n",
    "        self.name = name\n",
    "        self.age = age\n",
    "\n",
    "p1 = Person('Bob',30)\n",
    "p2 = Person('kana', 25)\n",
    "\n",
    "print(p1.name, p1.age)\n",
    "print(p2.name, p2.age)"
   ]
  },
  {
   "cell_type": "markdown",
   "metadata": {},
   "source": [
    "**self**\n",
    "- 파이썬의 method는 항상 첫번째 인자로 self를 전달\n",
    "- self는 현재 해당 메쏘드 호출되는 객체 자신을 가리킴\n",
    "- C++ / C#, Java 의 this에 해당\n",
    "- 역시, 이름이 self일 필요는 없으나, 위히는 항상 맨 처름의 parameter이며 관례적으로 self로 사용"
   ]
  },
  {
   "cell_type": "code",
   "execution_count": 20,
   "metadata": {},
   "outputs": [
    {
     "name": "stdout",
     "output_type": "stream",
     "text": [
      "self: <__main__.Person object at 0x7fc5bc54d0a0>\n",
      "self: <__main__.Person object at 0x7fc5bc54d970>\n",
      "<__main__.Person object at 0x7fc5bc54d0a0>\n",
      "<__main__.Person object at 0x7fc5bc54d970>\n"
     ]
    }
   ],
   "source": [
    "class Person:\n",
    "    def __init__(self, name, age):\n",
    "        print('self:',self)\n",
    "        self.name = name\n",
    "        self.agd=age\n",
    "\n",
    "a = Person('atom',20)\n",
    "b = Person('som',21)\n",
    "\n",
    "print(a)\n",
    "print(b)"
   ]
  },
  {
   "cell_type": "markdown",
   "metadata": {},
   "source": [
    "#### **mehtod 정의**\n",
    " + 멤버함수라고도 하며, 해당 클래스의 object에서만 호출가능\n",
    " + 메쏘드는 객체 레벨에서 호출되며, 해당 객체의 속성에 대한 연산을 행함\n",
    " + {obj}.{method}() 형태로 호출됨"
   ]
  },
  {
   "cell_type": "code",
   "execution_count": 38,
   "metadata": {},
   "outputs": [
    {
     "name": "stdout",
     "output_type": "stream",
     "text": [
      "현재값: 2\n",
      "현재값: 1\n",
      "현재값: 0\n"
     ]
    }
   ],
   "source": [
    "# 객체 . 매소드 ()  => 객체를 도출 \n",
    "\n",
    "# 1. 숫자를 하나 증가\n",
    "# 2. 숫자를 0으로 초기화\n",
    "\n",
    "class Counter : \n",
    "    def __init__(self):\n",
    "        self.num = 0\n",
    "        \n",
    "    def increment(self):\n",
    "        self.num += 1\n",
    "        \n",
    "    def reset(self):\n",
    "        self.num = 0    \n",
    "    \n",
    "    def print_current_value(self):\n",
    "        print('현재값:',self.num)\n",
    "\n",
    "c1 = Counter()\n",
    "c1.increment()\n",
    "c1.increment()\n",
    "c1.print_current_value()\n",
    "\n",
    "\n",
    "c2 = Counter()\n",
    "c2.increment() \n",
    "c2.print_current_value()\n",
    "c2.reset()\n",
    "c2.print_current_value() \n"
   ]
  },
  {
   "cell_type": "code",
   "execution_count": 35,
   "metadata": {},
   "outputs": [
    {
     "name": "stdout",
     "output_type": "stream",
     "text": [
      "49\n",
      "1200\n"
     ]
    }
   ],
   "source": [
    "class Math:            # 매스 클래스 생성 기능 : 덧셈, 곱셈 할술 아는 매소드 \n",
    "    @staticmethod\n",
    "    def add(a,b):      # 속성이 없는건 self 뺌 /@staticmethod 를 달아주면 인스턴스 가 아닌 클래스 이름으로 일반 함수처럼 사용 가능\n",
    "        return a + b\n",
    "    \n",
    "    @staticmethod\n",
    "    def multiply(a,b):\n",
    "        return a * b\n",
    "    \n",
    "print(Math.add(10,39))\n",
    "print(Math.multiply(30,40))"
   ]
  },
  {
   "cell_type": "markdown",
   "metadata": {},
   "source": [
    " #### **Class Inheritance (상속)**\n",
    "  - 기존에 정의해둔 클래스의 기능을 그대로 물려받을 수 있다.\n",
    "  - 기존 클래스에 기능 일부를 추가하거나, 변경하여 새로운 클래스를 정의한다.\n",
    "  - 코드를 재사용할 수 있게된다.\n",
    "  - 상속 받고자 하는 대상인 기존 클래스는 (Parent, Super, Base class 라고 부른다.)\n",
    "  - 상속 받는 새로운 클래스는(Child, Sub, Derived class 라고 부른다.)\n",
    "  - 의미적으로 is-a관계를 갖는다"
   ]
  },
  {
   "cell_type": "code",
   "execution_count": 4,
   "metadata": {},
   "outputs": [],
   "source": [
    "class Person:\n",
    "    def __init__ (self, name, age):\n",
    "        self.name = name\n",
    "        self.age = age\n",
    "    def eat(self, food):\n",
    "        print('{}은 {}를 먹습니다.'.format(self.name,food))\n",
    "\n",
    "    def sleep(self, minute):\n",
    "        print('{}은 {}분동안 잡니다.'.format(self.name,minute))\n",
    "        \n",
    "    def work(self,minute):\n",
    "        print('{}은 {}분동안 일합니다.'.format(self.name,minute))\n",
    "        \n",
    "class Student(Person):  # 상속 받을 인자를 () 안에 넣어준다. \n",
    "    def __init__ (self, name, age):\n",
    "        self.name = name\n",
    "        self.age = age\n",
    "\n",
    "class Employee(Person):\n",
    "    def __init__ (self, name, age):\n",
    "        self.name = name\n",
    "        self.age = age\n",
    "\n",
    "        "
   ]
  },
  {
   "cell_type": "code",
   "execution_count": 5,
   "metadata": {},
   "outputs": [
    {
     "name": "stdout",
     "output_type": "stream",
     "text": [
      "Bob은 BBQ를 먹습니다.\n",
      "Bob은 30분동안 잡니다.\n",
      "Bob은 60분동안 일합니다.\n"
     ]
    }
   ],
   "source": [
    "bob = Person('Bob',25)\n",
    "bob.eat('BBQ')\n",
    "bob.sleep(30)\n",
    "bob.work(60)"
   ]
  },
  {
   "cell_type": "code",
   "execution_count": 6,
   "metadata": {},
   "outputs": [
    {
     "name": "stdout",
     "output_type": "stream",
     "text": [
      "Bob은 BBQ를 먹습니다.\n",
      "Bob은 30분동안 잡니다.\n",
      "Bob은 60분동안 일합니다.\n"
     ]
    }
   ],
   "source": [
    "bob = Student ('Bob',25)   # Person 을 상속 받았기 때문에 student 가 person과 같은 기능을 할 수 있다.\n",
    "bob.eat('BBQ')\n",
    "bob.sleep(30)\n",
    "bob.work(60)"
   ]
  },
  {
   "cell_type": "code",
   "execution_count": 7,
   "metadata": {},
   "outputs": [
    {
     "name": "stdout",
     "output_type": "stream",
     "text": [
      "Bob은 BBQ를 먹습니다.\n",
      "Bob은 30분동안 잡니다.\n",
      "Bob은 60분동안 일합니다.\n"
     ]
    }
   ],
   "source": [
    "bob = Employee('Bob',25)   # 위 Student 같은 의미 \n",
    "bob.eat('BBQ')\n",
    "bob.sleep(30)\n",
    "bob.work(60)"
   ]
  },
  {
   "cell_type": "markdown",
   "metadata": {},
   "source": [
    "#### **method override**\n",
    " - 부모 클래스의 method를 재정의(override)\n",
    " - 하위 클래스(자식 클래스) 의 인스턴스로 호출시, 재정의된 메소드가 호출됨"
   ]
  },
  {
   "cell_type": "code",
   "execution_count": 13,
   "metadata": {},
   "outputs": [],
   "source": [
    "class Person:\n",
    "    def __init__ (self, name, age):\n",
    "        self.name = name\n",
    "        self.age = age\n",
    "    def eat(self, food):\n",
    "        print('{}은 {}를 먹습니다.'.format(self.name,food))\n",
    "\n",
    "    def sleep(self, minute):\n",
    "        print('{}은 {}분동안 잡니다.'.format(self.name,minute))\n",
    "        \n",
    "    def work(self,minute):\n",
    "        print('{}은 {}분동안 일합니다.'.format(self.name,minute))\n",
    "        \n",
    "class Student(Person):  # 상속 받을 인자를 () 안에 넣어준다. \n",
    "    def __init__ (self, name, age):\n",
    "        self.name = name\n",
    "        self.age = age\n",
    "        \n",
    "    def work(self,minute):  # 학생이 워크를 다시 사용 / 덮여 쓰기가 됨 \n",
    "        print('{}은 {}분동안 공부합니다.'.format(self.name,minute))\n",
    "        \n",
    "            \n",
    "class Employee(Person):\n",
    "    def __init__ (self, name, age):\n",
    "        self.name = name\n",
    "        self.age = age\n",
    "    \n",
    "    def work(self,minute):  # 학생이 워크를 다시 사용 / 덮여 쓰기가 됨 \n",
    "        print('{}은 {}분동안 업무를 합니다.'.format(self.name,minute))"
   ]
  },
  {
   "cell_type": "code",
   "execution_count": 11,
   "metadata": {},
   "outputs": [
    {
     "name": "stdout",
     "output_type": "stream",
     "text": [
      "Bob은 BBQ를 먹습니다.\n",
      "Bob은 30분동안 잡니다.\n",
      "Bob은 70분동안 공부합니다.\n"
     ]
    }
   ],
   "source": [
    "bob = Student ('Bob',25)  \n",
    "bob.eat('BBQ')\n",
    "bob.sleep(30)\n",
    "bob.work(70)    # 공부 합니다. 로 변화 - 사람 기능이 아닌 학생 기능으로 오버레이 됨 "
   ]
  },
  {
   "cell_type": "code",
   "execution_count": 14,
   "metadata": {},
   "outputs": [
    {
     "name": "stdout",
     "output_type": "stream",
     "text": [
      "Bob은 BBQ를 먹습니다.\n",
      "Bob은 30분동안 잡니다.\n",
      "Bob은 160분동안 업무를 합니다.\n"
     ]
    }
   ],
   "source": [
    "bob = Employee ('Bob',25)  \n",
    "bob.eat('BBQ')\n",
    "bob.sleep(30)\n",
    "bob.work(160)   # 업무를 합니다."
   ]
  },
  {
   "cell_type": "markdown",
   "metadata": {},
   "source": [
    "#### super \n",
    " - 하위클래스(자식 클래스)에서 부모클래스의 method를 호출할 때 사용"
   ]
  },
  {
   "cell_type": "code",
   "execution_count": 17,
   "metadata": {},
   "outputs": [],
   "source": [
    "class Person:\n",
    "    def __init__ (self, name, age):\n",
    "        self.name = name\n",
    "        self.age = age\n",
    "    def eat(self, food):\n",
    "        print('{}은 {}를 먹습니다.'.format(self.name,food))\n",
    "\n",
    "    def sleep(self, minute):\n",
    "        print('{}은 {}분동안 잡니다.'.format(self.name,minute))\n",
    "        \n",
    "    def work(self,minute):\n",
    "        print('{}은 {}분동안 준비를 합니다.'.format(self.name,minute))\n",
    "        \n",
    "class Student(Person):   \n",
    "    def __init__ (self, name, age):\n",
    "        self.name = name\n",
    "        self.age = age\n",
    "        \n",
    "    def work(self,minute):     \n",
    "        super().work(minute)   # super 를 사용해 상속 원본을 사용할 수도 있다.\n",
    "        print('{}은 {}분동안 공부합니다.'.format(self.name,minute))\n",
    "        \n",
    "            \n",
    "class Employee(Person):\n",
    "    def __init__ (self, name, age):\n",
    "        self.name = name\n",
    "        self.age = age\n",
    "    \n",
    "    def work(self,minute):  \n",
    "        super().work(minute)\n",
    "        print('{}은 {}분동안 업무를 합니다.'.format(self.name,minute))"
   ]
  },
  {
   "cell_type": "code",
   "execution_count": 18,
   "metadata": {},
   "outputs": [
    {
     "name": "stdout",
     "output_type": "stream",
     "text": [
      "Bob은 BBQ를 먹습니다.\n",
      "Bob은 30분동안 잡니다.\n",
      "Bob은 70분동안 준비를 합니다.\n",
      "Bob은 70분동안 공부합니다.\n"
     ]
    }
   ],
   "source": [
    "bob = Student ('Bob',25)  \n",
    "bob.eat('BBQ')\n",
    "bob.sleep(30)\n",
    "bob.work(70) "
   ]
  },
  {
   "cell_type": "markdown",
   "metadata": {},
   "source": [
    "#### **self**\n",
    " - 파이썬의 method는 항상 첫번째 인자로 self를 전달\n",
    " - self는 현재 해당 메쏘드가 호출되는 객체 자신을 가리킴\n",
    " - C++/C#, Java의 this에 해당\n",
    " - 역시, 이름이 self일 필요는 없으나, 위치는 항상 맨 처음의 parameter이며 관례적으로 self로 사용"
   ]
  },
  {
   "cell_type": "markdown",
   "metadata": {},
   "source": [
    "#### **method type**\n",
    " - instance method - 객체로 호출\n",
    "   - 메쏘드는 객체 레벨로 호출 되기 때문에, 해당 메쏘드를 호출한 객체에만 영향을 미침\n",
    " - class method    - class로 호출\n",
    "       - 클래스 메쏘드의 경우, 클래스 레벨로 호출되기 때문에, 클래스 멤버 변수만 변경 가능\n"
   ]
  },
  {
   "cell_type": "markdown",
   "metadata": {},
   "source": [
    "#### **special method**\n",
    " - __로 시작 __로 끝나는 특수 함수\n",
    " - 해당 메쏘드들을 구현하면, 커스텀 객체에 여러가지 파이썬 내장 함수나 연산자를 적용 가능\n",
    " - 오버라이딩 가능한 함수 목록은 아래 링크에서 참조 \n",
    "   - https://docs.python.org/3/reference/datamodel.html"
   ]
  },
  {
   "cell_type": "code",
   "execution_count": 21,
   "metadata": {
    "scrolled": true
   },
   "outputs": [
    {
     "name": "stdout",
     "output_type": "stream",
     "text": [
      "(3,4)\n",
      "(2,7)\n",
      "<__main__.Point object at 0x7fa4994940a0>\n",
      "<__main__.Point object at 0x7fa499494730>\n"
     ]
    }
   ],
   "source": [
    "class Point : \n",
    "    def __init__(self, x, y):\n",
    "        self.x=x\n",
    "        self.y=y\n",
    "    \n",
    "    def print_pt(self):\n",
    "        print('({},{})'.format(self.x,self.y))\n",
    "        \n",
    "p1 = Point(3,4)\n",
    "p2 = Point(2,7)\n",
    "\n",
    "p1.print_pt()\n",
    "p2.print_pt()\n",
    "\n",
    "print(p1)\n",
    "print(p2)"
   ]
  },
  {
   "cell_type": "code",
   "execution_count": 43,
   "metadata": {},
   "outputs": [
    {
     "name": "stdout",
     "output_type": "stream",
     "text": [
      "(10, 20)\n",
      "(30, 40)\n",
      "(40, 60)\n",
      "(-20, -20)\n"
     ]
    }
   ],
   "source": [
    "class Point2 : \n",
    "    def __init__(self, x, y):\n",
    "        self.x = x\n",
    "        self.y = y\n",
    "    \n",
    "    def __add__(self, pt):\n",
    "        new_x = self.x + pt.x\n",
    "        new_y = self.y + pt.y\n",
    "        return Point2(new_x, new_y)\n",
    "    \n",
    "    def __sub__(self, pt):\n",
    "        new_x = self.x - pt.x\n",
    "        new_y = self.y - pt.y\n",
    "        return Point2(new_x, new_y)\n",
    "    \n",
    "    def __str__(self):\n",
    "        return'({}, {})'.format(self.x, self.y)\n",
    "               \n",
    "               \n",
    "p1 = Point2(10,20)\n",
    "p2 = Point2(30,40)\n",
    "p3 = p1 + p2\n",
    "p4 = p1 - p2\n",
    "\n",
    "              \n",
    "print(p1)\n",
    "print(p2)\n",
    "print(p3)\n",
    "print(p4)\n",
    "               "
   ]
  },
  {
   "cell_type": "markdown",
   "metadata": {},
   "source": [
    "#### 연습문제)\n",
    " - 복소수 클래스를 정의 해봅시다.\n",
    " - 덧셈, 뺄셈, 곱셈 연산자 지원\n",
    " - 길이 (복소수의 크기) 지원 \n",
    " - 복소수 출력 '1 + 4j'와 같이 표현\n",
    " - 비교 연산 ==, != 지원\n",
    " - >=, <= , <, > 연산 지원\n",
    " - 절대값 지원\n"
   ]
  },
  {
   "cell_type": "code",
   "execution_count": 2,
   "metadata": {},
   "outputs": [],
   "source": [
    "class ComplexNumber:\n",
    "    \n",
    "    def __init__(self,real,img):\n",
    "        self.real = real\n",
    "        self.img = img\n",
    "    def __add__(self, cn):\n",
    "        return ComplexNumber(self.real + cn.real, self.img + cn.img)\n",
    "    \n",
    "    def __sub__(self, cn):\n",
    "        return ComplexNumber(self.real - cn.real, self.img - cn.img)\n",
    "    \n",
    "    def __mul__(self, x):\n",
    "        if type(x) == int:\n",
    "            return ComplexNumber(self.real * x, self.img * x)\n",
    "        elif type(x) == ComplexNumber:\n",
    "            return ComplexNumber(self.real * x, self.img * x.real - self.img, self.real * x.img + self.img * x.real)\n",
    "    \n",
    "    def __str__(self):\n",
    "        if self.img > 0:\n",
    "            return '{} + {}j'.format(self.real, self.img)\n",
    "        else:\n",
    "            return '{} - {}j'.format(self.real, abs(self.img))\n",
    "    \n",
    "    def __eq__(self, cn):\n",
    "        return self.real == cn.real and self.img == cn.img\n",
    "    \n",
    "    def __eq__(self, cn):\n",
    "        return not (self.real == cn.real and self.img == cn.img)\n",
    "    \n",
    "    def __abs__(self):\n",
    "        return math.sqrt(self.real ** 2 + self.img ** 2)\n",
    "    \n",
    "    def __len__(self):\n",
    "        return self.real ** 2 + self.img ** 2\n",
    "    \n",
    "a = ComplexNumber(1, 2)\n",
    "b = ComplexNumber(3, 5)\n"
   ]
  }
 ],
 "metadata": {
  "kernelspec": {
   "display_name": "Python 3",
   "language": "python",
   "name": "python3"
  },
  "language_info": {
   "codemirror_mode": {
    "name": "ipython",
    "version": 3
   },
   "file_extension": ".py",
   "mimetype": "text/x-python",
   "name": "python",
   "nbconvert_exporter": "python",
   "pygments_lexer": "ipython3",
   "version": "3.8.5"
  }
 },
 "nbformat": 4,
 "nbformat_minor": 1
}
