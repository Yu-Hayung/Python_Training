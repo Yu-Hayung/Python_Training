{
 "cells": [
  {
   "cell_type": "markdown",
   "metadata": {},
   "source": [
    "## 학습목표\n",
    " * 반복문의 이해 및 활용 (while)"
   ]
  },
  {
   "cell_type": "markdown",
   "metadata": {},
   "source": [
    "### loop (반복문)\n",
    " + 반복적인 작업을 가능하게 해주는 도구\n",
    " + 특정 조건을 만족하는 경우 수행할 수 있음 (while)\n",
    " + 리스트, 문자열, 튜플 등 컬렉션 타입의 아이템을 하나씩 순회하면서 사용 가능 (for)\n",
    " + 코드 작업에서, 가장 많이 사용하는 구문 중 하나\n",
    " + 주의할점: while을 사용할 경우, 반복을 멈추게 하는 장치가 필요\n",
    "   + 그렇지 않으면 셀이 무한히 수행되며, jupyter notebook의 재부팅이 필요"
   ]
  },
  {
   "cell_type": "markdown",
   "metadata": {},
   "source": [
    "#### while 키워드\n",
    "  - while 뒤의 조건이 True일 경우, while 코드 블록을 계속 수행\n",
    "  - while 코드 블록\n",
    "    - if와 마찬가지로 while문 아래의 들여쓰기로 작성 된 부분을 의미\n",
    "  - 조건이 False가 되면 블록 수행을 멈추고 이후 코드를 실행"
   ]
  },
  {
   "cell_type": "markdown",
   "metadata": {},
   "source": [
    "#### while 키워드 이용하여 리스트의 아이템 출력하기"
   ]
  },
  {
   "cell_type": "markdown",
   "metadata": {},
   "source": [
    "```python\n",
    "a = [1,2,4,55,6,32,12,63,75,333,235,1662,421]\n",
    "\n",
    "i = 0  # 인덱스의 시작이 0 이기 때문에\n",
    "while i < len(a):      # 투프이기 때문에 계속해서 반복 \n",
    "    print(a[i])        # 무한 루프 코드 \n",
    "```"
   ]
  },
  {
   "cell_type": "code",
   "execution_count": 3,
   "metadata": {},
   "outputs": [
    {
     "name": "stdout",
     "output_type": "stream",
     "text": [
      "value: 1 ,index: 0\n",
      "value: 2 ,index: 1\n",
      "value: 4 ,index: 2\n",
      "value: 55 ,index: 3\n",
      "value: 6 ,index: 4\n",
      "value: 32 ,index: 5\n",
      "value: 12 ,index: 6\n",
      "value: 63 ,index: 7\n",
      "value: 75 ,index: 8\n",
      "value: 333 ,index: 9\n",
      "value: 235 ,index: 10\n",
      "value: 1662 ,index: 11\n",
      "value: 421 ,index: 12\n",
      "end\n"
     ]
    }
   ],
   "source": [
    "a = [1,2,4,55,6,32,12,63,75,333,235,1662,421]\n",
    "\n",
    "i = 0  # 인덱스\n",
    "while i < len(a):      # if 와 다른점은 언제까지 반복할지 모를때 진행한다. \n",
    "    print('value:',a[i],',index:',i)\n",
    "    i += 1\n",
    "    \n",
    "print('end')"
   ]
  },
  {
   "cell_type": "markdown",
   "metadata": {},
   "source": [
    "#### while 키워드 이용하여 리스트의 아이템 출력하기\n",
    " - 조건문과 함께 사용하기"
   ]
  },
  {
   "cell_type": "code",
   "execution_count": 4,
   "metadata": {},
   "outputs": [
    {
     "name": "stdout",
     "output_type": "stream",
     "text": [
      "55\n",
      "32\n",
      "63\n",
      "75\n",
      "333\n",
      "235\n",
      "1662\n",
      "421\n"
     ]
    }
   ],
   "source": [
    "a = [1,2,4,55,6,32,12,63,75,333,235,1662,421]\n",
    "\n",
    "i = 0  # 인덱스\n",
    "while i < len(a):\n",
    "    if a[i] > 20:\n",
    "        print(a[i])\n",
    "    i += 1          # if 안에 들여쓰기 하면 무한 루프에 빠진다. 조건과 같은 레벨에 있어야 한다.     \n"
   ]
  },
  {
   "cell_type": "code",
   "execution_count": 8,
   "metadata": {},
   "outputs": [
    {
     "name": "stdout",
     "output_type": "stream",
     "text": [
      "1\n",
      "------홀수-------------\n",
      "1.0\n",
      "------짝수-------------\n",
      "2.0\n",
      "------짝수-------------\n",
      "55\n",
      "------홀수-------------\n",
      "3.0\n",
      "------짝수-------------\n",
      "16.0\n",
      "------짝수-------------\n",
      "6.0\n",
      "------짝수-------------\n",
      "63\n",
      "------홀수-------------\n",
      "75\n",
      "------홀수-------------\n",
      "333\n",
      "------홀수-------------\n",
      "235\n",
      "------홀수-------------\n",
      "831.0\n",
      "------짝수-------------\n",
      "421\n",
      "------홀수-------------\n"
     ]
    }
   ],
   "source": [
    "a = [1,2,4,55,6,32,12,63,75,333,235,1662,421]\n",
    "\n",
    "i = 0  # 인덱스\n",
    "while i < len(a):\n",
    "    if a[i] % 2:   # 홀수인 경우만 출력\n",
    "        print(a[i])\n",
    "        print('------홀수-------------')\n",
    "    else:\n",
    "        print(a[i]/2)\n",
    "        print('------짝수-------------')\n",
    "    i += 1 "
   ]
  },
  {
   "cell_type": "markdown",
   "metadata": {},
   "source": [
    "#### 무한루프\n",
    " - while의 경우 종료가 되지 않도록 코드를 작성하면 블록에서 빠져나올 수 없음"
   ]
  },
  {
   "cell_type": "markdown",
   "metadata": {},
   "source": [
    "```python\n",
    "while True:\n",
    "    print('무한')\n",
    "```"
   ]
  },
  {
   "cell_type": "markdown",
   "metadata": {},
   "source": [
    "#### break \n",
    " + loop를 중단할 때 사용\n",
    " + 보통 조건문 안에서 수행되며, 조건을 만족하는 경우 loop를 탈출하기 위해 사용\n",
    " + loop를 중단 하는 경우, while 이후의 코드를 수행"
   ]
  },
  {
   "cell_type": "code",
   "execution_count": 12,
   "metadata": {},
   "outputs": [
    {
     "name": "stdout",
     "output_type": "stream",
     "text": [
      "1\n",
      "2\n",
      "3\n",
      "4\n",
      "5\n",
      "yes yes\n"
     ]
    }
   ],
   "source": [
    "a = [1, 2, 3, 4, 5, 6, 7, 8, 9, 10,1, 2, 3, 4, 5, 6, 7, 8, 9, 10, 100]\n",
    "\n",
    "i = 0\n",
    "while i < len(a):\n",
    "    if a[i] > 5:\n",
    "        break        # 리스트에 더 해당되는 것이 있지만 break 됨\n",
    "    print(a[i])\n",
    "    \n",
    "    i += 1\n",
    "\n",
    "print('yes yes')"
   ]
  },
  {
   "cell_type": "markdown",
   "metadata": {},
   "source": [
    "#### continue\n",
    " + break 처럼 반복을 중단하진 하여 빠져나오지 않고, 다시 while조건으로 점프함\n",
    " + 특정한 경우에는 코드를 수행하지 않고 다음으로 건너 뛰기 위해 사용"
   ]
  },
  {
   "cell_type": "code",
   "execution_count": 14,
   "metadata": {},
   "outputs": [
    {
     "name": "stdout",
     "output_type": "stream",
     "text": [
      "6\n",
      "4\n",
      "3\n",
      "2\n",
      "1\n",
      "0\n"
     ]
    }
   ],
   "source": [
    "a = 7\n",
    "while a > 0:\n",
    "    a -= 1 \n",
    "    if a == 5:  # 5가 건너뛰기가 되어 출력된다. \n",
    "        continue  # 멈추는게 아닌 실행만 안되고 다음으로 넘어감 \n",
    "    print(a)"
   ]
  },
  {
   "cell_type": "markdown",
   "metadata": {},
   "source": [
    "# 1-100 까지 더하기 "
   ]
  },
  {
   "cell_type": "code",
   "execution_count": 17,
   "metadata": {},
   "outputs": [
    {
     "name": "stdout",
     "output_type": "stream",
     "text": [
      "5050\n"
     ]
    }
   ],
   "source": [
    "num = 1    # 초기값 시작점 \n",
    "_sum = 0   # 더해진 값을 넣을 그릇 \n",
    "\n",
    "while num <= 100 :   # 100까지는 True 101이상은 fuse 실행 안됨\n",
    "    _sum += num     # _sum은 num을 더한값 \n",
    "    num += 1        # num은 1씩 커진다.\n",
    "    \n",
    "print(_sum)         # sum 출력\n",
    "    "
   ]
  }
 ],
 "metadata": {
  "kernelspec": {
   "display_name": "Python 3",
   "language": "python",
   "name": "python3"
  },
  "language_info": {
   "codemirror_mode": {
    "name": "ipython",
    "version": 3
   },
   "file_extension": ".py",
   "mimetype": "text/x-python",
   "name": "python",
   "nbconvert_exporter": "python",
   "pygments_lexer": "ipython3",
   "version": "3.8.5"
  }
 },
 "nbformat": 4,
 "nbformat_minor": 1
}
